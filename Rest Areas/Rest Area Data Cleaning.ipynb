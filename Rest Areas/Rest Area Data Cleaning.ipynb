{
 "cells": [
  {
   "cell_type": "code",
   "execution_count": 1,
   "metadata": {},
   "outputs": [],
   "source": [
    "from selenium import webdriver\n",
    "from selenium.webdriver.support.ui import WebDriverWait\n",
    "from selenium.webdriver.common.by import By\n",
    "from selenium.webdriver.common.keys import Keys\n",
    "from selenium.webdriver.support import expected_conditions as EC\n",
    "from bs4 import BeautifulSoup\n",
    "import time"
   ]
  },
  {
   "cell_type": "code",
   "execution_count": 51,
   "metadata": {},
   "outputs": [],
   "source": [
    "interstates = [5,8,10,15,20,24,25,26,29,30,35,40,44,45,55,57,59,64,65,69,70,71,74,\n",
    "                  75,77,79,80,81,84,85,89,90,91,94,95]"
   ]
  },
  {
   "cell_type": "code",
   "execution_count": 36,
   "metadata": {},
   "outputs": [],
   "source": [
    "chromedriver_location=r'C:\\Users\\eric.englin\\Downloads/chromedriver.exe'\n",
    "browser = webdriver.Chrome(chromedriver_location)\n"
   ]
  },
  {
   "cell_type": "code",
   "execution_count": 37,
   "metadata": {},
   "outputs": [],
   "source": [
    "site = 'https://www.interstaterestareas.com/california-interstate-8/'\n",
    "browser.get(site)\n",
    "soup = BeautifulSoup(browser.page_source, 'lxml')\n",
    "browser.close()"
   ]
  },
  {
   "cell_type": "code",
   "execution_count": 21,
   "metadata": {},
   "outputs": [],
   "source": [
    "states = [\"Alabama\",\"Alaska\",\"Arizona\",\"Arkansas\",\"California\",\"Colorado\",\n",
    "          \"Connecticut\",\"Delaware\",'District of Columbia',\"Florida\",\"Georgia\",\"Hawaii\",\"Idaho\",\"Illinois\",\n",
    "          \"Indiana\",\"Iowa\",\"Kansas\",\"Kentucky\",\"Louisiana\",\"Maine\",\"Maryland\",\n",
    "          \"Massachusetts\",\"Michigan\",\"Minnesota\",\"Mississippi\",\"Missouri\",\"Montana\",\n",
    "          \"Nebraska\",\"Nevada\",\"New Hampshire\",\"New Jersey\",\"New Mexico\",\"New York\",\n",
    "          \"North Carolina\",\"North Dakota\",\"Ohio\",\"Oklahoma\",\"Oregon\",\"Pennsylvania\",'Puerto Rico',\n",
    "          \"Rhode Island\",\"South Carolina\",\"South Dakota\",\"Tennessee\",\"Texas\",\"Utah\",\n",
    "          \"Vermont\",\"Virginia\",\"Washington\",\"West Virginia\",\"Wisconsin\",\"Wyoming\"]\n"
   ]
  },
  {
   "cell_type": "code",
   "execution_count": 57,
   "metadata": {},
   "outputs": [
    {
     "name": "stdout",
     "output_type": "stream",
     "text": [
      "Interstate  5 :  61\n",
      "Interstate  8 :  9\n",
      "Interstate  10 :  71\n",
      "Interstate  15 :  35\n",
      "Interstate  20 :  38\n",
      "Interstate  24 :  9\n",
      "Interstate  25 :  23\n",
      "Interstate  26 :  13\n",
      "Interstate  29 :  21\n",
      "Interstate  30 :  10\n",
      "Interstate  35 :  40\n",
      "Interstate  40 :  65\n",
      "Interstate  44 :  9\n",
      "Interstate  45 :  4\n",
      "Interstate  55 :  27\n",
      "Interstate  57 :  14\n",
      "Interstate  59 :  11\n",
      "Interstate  64 :  31\n",
      "Interstate  65 :  25\n",
      "Interstate  69 :  12\n",
      "Interstate  70 :  74\n",
      "Interstate  71 :  14\n",
      "Interstate  74 :  16\n",
      "Interstate  75 :  70\n",
      "Interstate  77 :  19\n",
      "Interstate  79 :  16\n",
      "Interstate  80 :  97\n",
      "Interstate  81 :  35\n",
      "Interstate  84 :  40\n",
      "Interstate  85 :  24\n",
      "Interstate  89 :  10\n",
      "Interstate  90 :  76\n",
      "Interstate  91 :  8\n",
      "Interstate  94 :  55\n",
      "Interstate  95 :  53\n"
     ]
    }
   ],
   "source": [
    "interstate_list=[]\n",
    "rest_area_list = []\n",
    "type_list = []\n",
    "state_list=[]\n",
    "count_list = []\n",
    "browser = webdriver.Chrome(chromedriver_location)\n",
    "\n",
    "for interstate in interstates:\n",
    "    \n",
    "    this_site_state_list = []\n",
    "    site = 'https://www.interstaterestareas.com/interstate-' + str(interstate) + '-rest-areas/'\n",
    "    browser.get(site)\n",
    "    soup = BeautifulSoup(browser.page_source, 'lxml')\n",
    "    for x in soup.findAll(\"a\"):\n",
    "        if str(x.text) in states:\n",
    "            this_site_state_list.append(str(x.text))\n",
    "            \n",
    "    count = 0\n",
    "    for state in this_site_state_list:\n",
    "        site = 'https://www.interstaterestareas.com/'+ str(state) + '-interstate-'+ str(interstate) + '/'\n",
    "        browser.get(site)\n",
    "        soup = BeautifulSoup(browser.page_source, 'lxml')\n",
    "        for x in soup.findAll(\"h3\"):\n",
    "            #print(x.text)\n",
    "            list_elements = x.next_sibling.next_sibling\n",
    "           # print(previous_li_element)\n",
    "            for y in list_elements:\n",
    "                if \"Rest Area\" in str(y) or \"Welcome Center\" in str(y):\n",
    "                    type_list.append(str(y.text))\n",
    "                    rest_area_list.append(str(x.text))\n",
    "                    state_list.append(state)\n",
    "                    interstate_list.append(interstate)\n",
    "                    count_list.append(count)\n",
    "                    count+=1\n",
    "        #        print(y)\n",
    "    \n",
    "    if count == 0:\n",
    "        site = 'https://www.interstaterestareas.com/interstate-' + str(interstate) + '-rest-areas/'\n",
    "        browser.get(site)\n",
    "        soup = BeautifulSoup(browser.page_source, 'lxml')\n",
    "        for x in soup.findAll(\"h3\"):\n",
    "            #print(x.text)\n",
    "            list_elements = x.next_sibling.next_sibling\n",
    "           # print(previous_li_element)\n",
    "            for y in list_elements:\n",
    "                if \"Rest Area\" in str(y) or \"Welcome Center\" in str(y):\n",
    "                    type_list.append(str(y.text))\n",
    "                    rest_area_list.append(str(x.text))\n",
    "                    state_list.append(state)\n",
    "                    interstate_list.append(interstate)\n",
    "                    count_list.append(count)\n",
    "                    count+=1\n",
    "\n",
    "    print(\"Interstate \", interstate, \": \", count)"
   ]
  },
  {
   "cell_type": "code",
   "execution_count": 58,
   "metadata": {},
   "outputs": [
    {
     "data": {
      "text/plain": [
       "(1135, 1135)"
      ]
     },
     "execution_count": 58,
     "metadata": {},
     "output_type": "execute_result"
    }
   ],
   "source": [
    "len(rest_area_list), len(state_list)"
   ]
  },
  {
   "cell_type": "code",
   "execution_count": 60,
   "metadata": {},
   "outputs": [],
   "source": [
    "import pandas as pd\n",
    "df = pd.DataFrame({'Interstate':interstate_list,\n",
    "                  \"State\":state_list,\n",
    "                  \"Rest Area\": rest_area_list,\n",
    "                  \"Rest Area Type\": type_list,\n",
    "                  \"Count\": count_list})\n"
   ]
  },
  {
   "cell_type": "code",
   "execution_count": 61,
   "metadata": {},
   "outputs": [],
   "source": [
    "df.to_csv(\"rest_areas.csv\",index=False)"
   ]
  }
 ],
 "metadata": {
  "kernelspec": {
   "display_name": "Python 3",
   "language": "python",
   "name": "python3"
  },
  "language_info": {
   "codemirror_mode": {
    "name": "ipython",
    "version": 3
   },
   "file_extension": ".py",
   "mimetype": "text/x-python",
   "name": "python",
   "nbconvert_exporter": "python",
   "pygments_lexer": "ipython3",
   "version": "3.7.3"
  }
 },
 "nbformat": 4,
 "nbformat_minor": 2
}
