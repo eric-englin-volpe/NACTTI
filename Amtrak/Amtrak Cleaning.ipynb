{
 "cells": [
  {
   "cell_type": "code",
   "execution_count": 1,
   "metadata": {},
   "outputs": [],
   "source": [
    "import pandas as pd\n",
    "import matplotlib.pyplot as plt\n",
    "import numpy as np\n",
    "import math\n",
    "from ast import literal_eval\n"
   ]
  },
  {
   "cell_type": "code",
   "execution_count": 2,
   "metadata": {},
   "outputs": [],
   "source": [
    "#download airport data for mapping\n",
    "path1 = r\"\\\\vntscex.local\\dfs\\PublicLands\\NACTTI\\Research\\Tables\\Railpassengers Station Ridership 2012-2018.txt\"\n",
    "Amtrak = pd.read_csv(path1)\n"
   ]
  },
  {
   "cell_type": "code",
   "execution_count": 3,
   "metadata": {},
   "outputs": [],
   "source": [
    "Amtrak_2018=Amtrak.loc[Amtrak['Year']==2018]"
   ]
  },
  {
   "cell_type": "code",
   "execution_count": 4,
   "metadata": {
    "scrolled": true
   },
   "outputs": [
    {
     "data": {
      "text/html": [
       "<div>\n",
       "<style scoped>\n",
       "    .dataframe tbody tr th:only-of-type {\n",
       "        vertical-align: middle;\n",
       "    }\n",
       "\n",
       "    .dataframe tbody tr th {\n",
       "        vertical-align: top;\n",
       "    }\n",
       "\n",
       "    .dataframe thead th {\n",
       "        text-align: right;\n",
       "    }\n",
       "</style>\n",
       "<table border=\"1\" class=\"dataframe\">\n",
       "  <thead>\n",
       "    <tr style=\"text-align: right;\">\n",
       "      <th></th>\n",
       "      <th>Unnamed: 0</th>\n",
       "      <th>Year</th>\n",
       "      <th>Ridership</th>\n",
       "      <th>city</th>\n",
       "      <th>report type</th>\n",
       "      <th>url</th>\n",
       "      <th>row_num</th>\n",
       "      <th>type</th>\n",
       "      <th>station</th>\n",
       "    </tr>\n",
       "  </thead>\n",
       "  <tbody>\n",
       "    <tr>\n",
       "      <th>6</th>\n",
       "      <td>6</td>\n",
       "      <td>2018</td>\n",
       "      <td>37867.0</td>\n",
       "      <td>Aberdeen</td>\n",
       "      <td>['\\n                    Aberdeen, MD (ABE)\\n  ...</td>\n",
       "      <td>https://www.railpassengers.org//site/assets/fi...</td>\n",
       "      <td>50</td>\n",
       "      <td>stations</td>\n",
       "      <td>Aberdeen, MD (ABE)</td>\n",
       "    </tr>\n",
       "    <tr>\n",
       "      <th>13</th>\n",
       "      <td>13</td>\n",
       "      <td>2018</td>\n",
       "      <td>30780.0</td>\n",
       "      <td>Albany</td>\n",
       "      <td>['\\n                    Albany, OR (ALY)\\n    ...</td>\n",
       "      <td>https://www.railpassengers.org//site/assets/fi...</td>\n",
       "      <td>51</td>\n",
       "      <td>stations</td>\n",
       "      <td>Albany, OR (ALY)</td>\n",
       "    </tr>\n",
       "    <tr>\n",
       "      <th>20</th>\n",
       "      <td>20</td>\n",
       "      <td>2018</td>\n",
       "      <td>790.5</td>\n",
       "      <td>Albany-Rensselaer</td>\n",
       "      <td>['\\n                    Albany-Rensselaer, NY ...</td>\n",
       "      <td>https://www.railpassengers.org//site/assets/fi...</td>\n",
       "      <td>52</td>\n",
       "      <td>stations</td>\n",
       "      <td>Albany-Rensselaer, NY (ALB)</td>\n",
       "    </tr>\n",
       "  </tbody>\n",
       "</table>\n",
       "</div>"
      ],
      "text/plain": [
       "    Unnamed: 0  Year Ridership               city  \\\n",
       "6            6  2018   37867.0           Aberdeen   \n",
       "13          13  2018   30780.0             Albany   \n",
       "20          20  2018     790.5  Albany-Rensselaer   \n",
       "\n",
       "                                          report type  \\\n",
       "6   ['\\n                    Aberdeen, MD (ABE)\\n  ...   \n",
       "13  ['\\n                    Albany, OR (ALY)\\n    ...   \n",
       "20  ['\\n                    Albany-Rensselaer, NY ...   \n",
       "\n",
       "                                                  url  row_num      type  \\\n",
       "6   https://www.railpassengers.org//site/assets/fi...       50  stations   \n",
       "13  https://www.railpassengers.org//site/assets/fi...       51  stations   \n",
       "20  https://www.railpassengers.org//site/assets/fi...       52  stations   \n",
       "\n",
       "                        station  \n",
       "6            Aberdeen, MD (ABE)  \n",
       "13             Albany, OR (ALY)  \n",
       "20  Albany-Rensselaer, NY (ALB)  "
      ]
     },
     "execution_count": 4,
     "metadata": {},
     "output_type": "execute_result"
    }
   ],
   "source": [
    "Amtrak_2018.head(3)"
   ]
  },
  {
   "cell_type": "code",
   "execution_count": 13,
   "metadata": {},
   "outputs": [],
   "source": [
    "station_name_list=[]\n",
    "for x in Amtrak_2018[\"station\"]:\n",
    "    y=x[:-10]\n",
    "    y=y.replace(\"-\",\"/\")\n",
    "    station_name_list.append(y)"
   ]
  },
  {
   "cell_type": "code",
   "execution_count": 14,
   "metadata": {},
   "outputs": [
    {
     "name": "stderr",
     "output_type": "stream",
     "text": [
      "C:\\ProgramData\\Anaconda3\\lib\\site-packages\\ipykernel_launcher.py:1: SettingWithCopyWarning: \n",
      "A value is trying to be set on a copy of a slice from a DataFrame.\n",
      "Try using .loc[row_indexer,col_indexer] = value instead\n",
      "\n",
      "See the caveats in the documentation: http://pandas.pydata.org/pandas-docs/stable/indexing.html#indexing-view-versus-copy\n",
      "  \"\"\"Entry point for launching an IPython kernel.\n"
     ]
    }
   ],
   "source": [
    "Amtrak_2018[\"station\"]=station_name_list\n"
   ]
  },
  {
   "cell_type": "code",
   "execution_count": 15,
   "metadata": {},
   "outputs": [],
   "source": [
    "Amtrak_2018.to_csv(\"2018_Amtrak.csv\")"
   ]
  },
  {
   "cell_type": "code",
   "execution_count": null,
   "metadata": {},
   "outputs": [],
   "source": [
    "#download airport data for mapping\n",
    "path2 = r\"\\\\vntscex.local\\dfs\\PublicLands\\NACTTI\\Research\\Tables\\Amtrak Stations.csv\"\n",
    "stations = pd.read_csv(path2)\n"
   ]
  },
  {
   "cell_type": "code",
   "execution_count": null,
   "metadata": {},
   "outputs": [],
   "source": [
    "station_names=[]\n",
    "cleaning_phrases = [\"- Amtrak Station\", \"- Amtrak\",\")\"]\n",
    "for x in stations[\"STNNAME\"]:\n",
    "    y=x.find(\",\")\n",
    "    new_names = x[:y]\n",
    "    new_names1=new_names.replace(\"(\",\"- \").replace(\")\",\"\").replace(\"- Amtrak\",\"\").replace(\"- Amtrak Station\",\"\")\n",
    "    station_names.append(new_names1)"
   ]
  },
  {
   "cell_type": "code",
   "execution_count": null,
   "metadata": {
    "scrolled": true
   },
   "outputs": [],
   "source": [
    "stations[\"station\"]=stations[\"STNNAME\"]\n",
    "stations.head()"
   ]
  },
  {
   "cell_type": "code",
   "execution_count": null,
   "metadata": {},
   "outputs": [],
   "source": [
    "stations[\"station_name\"]=station_names"
   ]
  },
  {
   "cell_type": "code",
   "execution_count": null,
   "metadata": {},
   "outputs": [],
   "source": [
    "stations.to_csv(\"stations2.csv\")"
   ]
  },
  {
   "cell_type": "code",
   "execution_count": null,
   "metadata": {
    "scrolled": true
   },
   "outputs": [],
   "source": [
    "Amtrak_full = Amtrak_2018.merge(stations, on=\"station\", how=\"left\")\n",
    "Amtrak_full.head()"
   ]
  }
 ],
 "metadata": {
  "kernelspec": {
   "display_name": "Python 3",
   "language": "python",
   "name": "python3"
  },
  "language_info": {
   "codemirror_mode": {
    "name": "ipython",
    "version": 3
   },
   "file_extension": ".py",
   "mimetype": "text/x-python",
   "name": "python",
   "nbconvert_exporter": "python",
   "pygments_lexer": "ipython3",
   "version": "3.7.3"
  }
 },
 "nbformat": 4,
 "nbformat_minor": 2
}
